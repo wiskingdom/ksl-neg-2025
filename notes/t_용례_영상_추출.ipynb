{
 "cells": [
  {
   "cell_type": "code",
   "execution_count": 23,
   "id": "9a218350",
   "metadata": {},
   "outputs": [],
   "source": [
    "targets = [\n",
    "    r\"^아니다\", \n",
    "    r\"^없다\", \n",
    "    r\"^않다\", \n",
    "    r\"^안하다\", \n",
    "    r\" 아니다\", \n",
    "    r\" 없다\", \n",
    "    r\" 않다\", \n",
    "    r\" 안하다\"\n",
    "    ]\n",
    "\n",
    "input_path = \"./output/flattened_koksl2022_ann.json\"\n"
   ]
  },
  {
   "cell_type": "code",
   "execution_count": 24,
   "id": "615b41a4",
   "metadata": {},
   "outputs": [],
   "source": [
    "import json\n",
    "\n",
    "with open(input_path, \"r\", encoding=\"utf-8\") as file:\n",
    "    records = json.loads(file.read())\n",
    "    "
   ]
  },
  {
   "cell_type": "code",
   "execution_count": 25,
   "id": "efac891b",
   "metadata": {},
   "outputs": [],
   "source": [
    "from pathlib import Path\n",
    "\n",
    "eaf_dir = Path(\"D:/koksl2022/EAF\")\n",
    "eaf_paths = eaf_dir.glob(\"*.eaf\")\n",
    "\n",
    "def path_mapper(path: Path):\n",
    "    key = path.stem\n",
    "    path_posix = path.as_posix()\n",
    "    return (key, path_posix)\n",
    "\n",
    "eaf_path_map = dict(path_mapper(p) for p in eaf_paths)\n"
   ]
  },
  {
   "cell_type": "code",
   "execution_count": 26,
   "id": "8c78c31b",
   "metadata": {},
   "outputs": [],
   "source": [
    "import re\n",
    "\n",
    "def has_gloss(target, record):\n",
    "\n",
    "    def get_glosses(record):\n",
    "        ms_strong = (item[\"gloss_id\"] for item in record[\"ms_strong\"])\n",
    "        ms_weak = (item[\"gloss_id\"] for item in record[\"ms_weak\"]) \n",
    "        nms = (item[\"gloss_id\"] for item in record[\"nms\"]) \n",
    "        return {*ms_strong, *ms_weak, *nms}\n",
    "\n",
    "    glosses = get_glosses(record)\n",
    "    matched = (bool(re.search(target, gl)) for gl in glosses)\n",
    "\n",
    "    return True in matched\n"
   ]
  },
  {
   "cell_type": "code",
   "execution_count": 27,
   "id": "3ec2ace7",
   "metadata": {},
   "outputs": [],
   "source": [
    "import os\n",
    "import shutil\n",
    "\n",
    "for target in targets:\n",
    "\n",
    "    matched_record_ids = [rec[\"id\"] for rec in records if has_gloss(target, rec)]\n",
    "\n",
    "    out_dir = Path(f\"./output/용례-{target}\")\n",
    "\n",
    "    if out_dir.exists():\n",
    "        shutil.rmtree(out_dir)\n",
    "\n",
    "    os.mkdir(out_dir)\n",
    "\n",
    "    for i in matched_record_ids:\n",
    "        shutil.copy(eaf_path_map[i], out_dir)\n"
   ]
  }
 ],
 "metadata": {
  "kernelspec": {
   "display_name": "base",
   "language": "python",
   "name": "python3"
  },
  "language_info": {
   "codemirror_mode": {
    "name": "ipython",
    "version": 3
   },
   "file_extension": ".py",
   "mimetype": "text/x-python",
   "name": "python",
   "nbconvert_exporter": "python",
   "pygments_lexer": "ipython3",
   "version": "3.11.7"
  }
 },
 "nbformat": 4,
 "nbformat_minor": 5
}
