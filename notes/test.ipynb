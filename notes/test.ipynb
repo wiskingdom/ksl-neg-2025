{
 "cells": [
  {
   "cell_type": "code",
   "execution_count": 1,
   "id": "8e06c2d4",
   "metadata": {},
   "outputs": [],
   "source": [
    "records = [\n",
    "    {\"a\": 2, \"b\": 1}, \n",
    "    {\"a\": 2, \"b\": 1}, \n",
    "    {\"a\": 3, \"b\": 4}, \n",
    "    {\"a\": 2, \"b\": 4}\n",
    "    ]\n"
   ]
  },
  {
   "cell_type": "code",
   "execution_count": 9,
   "id": "fc99d2dd",
   "metadata": {},
   "outputs": [
    {
     "data": {
      "text/plain": [
       "[{'a': 2, 'b': 1}, {'a': 3, 'b': 4}, {'a': 2, 'b': 4}]"
      ]
     },
     "execution_count": 9,
     "metadata": {},
     "output_type": "execute_result"
    }
   ],
   "source": [
    "[*{(rec['a'], rec['b']): rec for rec in records}.values()]"
   ]
  }
 ],
 "metadata": {
  "kernelspec": {
   "display_name": "base",
   "language": "python",
   "name": "python3"
  },
  "language_info": {
   "codemirror_mode": {
    "name": "ipython",
    "version": 3
   },
   "file_extension": ".py",
   "mimetype": "text/x-python",
   "name": "python",
   "nbconvert_exporter": "python",
   "pygments_lexer": "ipython3",
   "version": "3.11.7"
  }
 },
 "nbformat": 4,
 "nbformat_minor": 5
}
