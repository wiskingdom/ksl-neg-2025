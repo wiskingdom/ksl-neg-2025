{
 "cells": [
  {
   "cell_type": "code",
   "execution_count": 1,
   "metadata": {},
   "outputs": [],
   "source": [
    "from pathlib import Path\n",
    "import json\n",
    "\n",
    "input_path = Path(\"./output/merged_koksl2022.json\")\n",
    "\n",
    "with open(input_path, \"r\", encoding=\"utf-8\") as file:\n",
    "    input_records = json.loads(file.read())\n"
   ]
  },
  {
   "cell_type": "code",
   "execution_count": 2,
   "metadata": {},
   "outputs": [
    {
     "data": {
      "text/plain": [
       "[{'descriptor': '', 'start': 2.931, 'end': 3.413, 'gloss_id': 'Hno'},\n",
       " {'descriptor': '', 'start': 3.687, 'end': 4.068, 'gloss_id': 'Hno'},\n",
       " {'descriptor': '', 'start': 1.826, 'end': 4.131, 'gloss_id': 'EBf'}]"
      ]
     },
     "execution_count": 2,
     "metadata": {},
     "output_type": "execute_result"
    }
   ],
   "source": [
    "from itertools import chain\n",
    "\n",
    "def normalize_nms(nms_dict: dict):\n",
    "    if nms_dict:\n",
    "        activated_nmss = filter(lambda item: item[1], nms_dict.items())\n",
    "\n",
    "        def add_type(nms_type, tag_dict):\n",
    "            return { **tag_dict, \"gloss_id\": nms_type}\n",
    "\n",
    "        def normalize_mapper(item):\n",
    "            nms_type, tag_dicts = item\n",
    "            return (add_type(nms_type, tag_dict) for tag_dict in tag_dicts)\n",
    "\n",
    "        return [*chain(*(normalize_mapper(nms) for nms in activated_nmss))]\n",
    "    else:\n",
    "        return []\n",
    "\n",
    "normalize_nms(input_records[0][\"nms_script\"])\n"
   ]
  },
  {
   "cell_type": "code",
   "execution_count": null,
   "metadata": {},
   "outputs": [
    {
     "data": {
      "text/plain": [
       "{'id': 'SCUSHPAKOKSL2200000001',\n",
       " 'ko': '네 많이 걱정하셨을 텐데요',\n",
       " 'ksl_simple': '걱정/많다/같다[맞다]',\n",
       " 'ms_strong': [{'start': 1.826,\n",
       "   'end': 2.381,\n",
       "   'gloss_id': '걱정',\n",
       "   'express': 's',\n",
       "   'direction': {'source': '', 'target': ''},\n",
       "   'sentence_loc': {'start': '', 'end': ''}},\n",
       "  {'start': 2.734,\n",
       "   'end': 3.45,\n",
       "   'gloss_id': '많다',\n",
       "   'express': 's',\n",
       "   'direction': {'source': '', 'target': ''},\n",
       "   'sentence_loc': {'start': '', 'end': ''}},\n",
       "  {'start': 3.568,\n",
       "   'end': 4.132,\n",
       "   'gloss_id': '같다[맞다]',\n",
       "   'express': 's',\n",
       "   'direction': {'source': '', 'target': ''},\n",
       "   'sentence_loc': {'start': '', 'end': ''}}],\n",
       " 'ms_weak': [{'start': 2.734,\n",
       "   'end': 3.45,\n",
       "   'gloss_id': '많다',\n",
       "   'express': 's',\n",
       "   'direction': None,\n",
       "   'sentence_loc': None},\n",
       "  {'start': 3.568,\n",
       "   'end': 4.132,\n",
       "   'gloss_id': '같다[맞다]',\n",
       "   'express': 's',\n",
       "   'direction': None,\n",
       "   'sentence_loc': None}],\n",
       " 'nms': [{'descriptor': '', 'start': 1.826, 'end': 4.131, 'gloss_id': 'EBf'},\n",
       "  {'descriptor': '', 'start': 2.931, 'end': 3.413, 'gloss_id': 'Hno'},\n",
       "  {'descriptor': '', 'start': 3.687, 'end': 4.068, 'gloss_id': 'Hno'}]}"
      ]
     },
     "execution_count": 3,
     "metadata": {},
     "output_type": "execute_result"
    }
   ],
   "source": [
    "def flatten_ann(record):\n",
    "    idx = record[\"id\"]\n",
    "    ko = record[\"krlgg_sntenc\"][\"koreanText\"]\n",
    "    ksl_simple = record[\"sign_lang_sntenc\"]\n",
    "    ms_strong = record[\"sign_script\"][\"sign_gestures_strong\"] or []\n",
    "    ms_weak = record[\"sign_script\"][\"sign_gestures_weak\"] or []\n",
    "    nms = record[\"nms_script\"]\n",
    "\n",
    "    return {\n",
    "        \"id\": idx,\n",
    "        \"ko\": ko,\n",
    "        \"ksl_simple\": ksl_simple,\n",
    "        \"ms_strong\": sorted(ms_strong, key=lambda tag: tag[\"start\"]),\n",
    "        \"ms_weak\": sorted(ms_weak, key=lambda tag: tag[\"start\"]),\n",
    "        \"nms\": sorted(normalize_nms(nms), key=lambda tag: tag[\"start\"]),\n",
    "    }\n",
    "\n",
    "flatten_ann(input_records[0])\n"
   ]
  },
  {
   "cell_type": "code",
   "execution_count": null,
   "metadata": {},
   "outputs": [
    {
     "data": {
      "text/plain": [
       "{'id': 'SCUSHPAKOKSL2200000001',\n",
       " 'realm': '문화',\n",
       " 'thema': '쇼핑',\n",
       " 'trnslator': 'LYJ',\n",
       " 'vido_file_nm': 'SCUSHPAKOKSL2200000001',\n",
       " 'sl_speaker_id': 'YJ',\n",
       " 'sl_speaker_age': 50,\n",
       " 'sl_speaker_sex': 'Male',\n",
       " 'sl_speaker_legion': 'Seoul',\n",
       " 'sl_speaker_hand': 'right_handed'}"
      ]
     },
     "execution_count": 4,
     "metadata": {},
     "output_type": "execute_result"
    }
   ],
   "source": [
    "def flatten_meta(record):\n",
    "    idx = record[\"id\"]\n",
    "    realm = record[\"krlgg_sntenc\"][\"realm\"]\n",
    "    thema = record[\"krlgg_sntenc\"][\"thema\"]\n",
    "    trnslator = record[\"sign_lang_trnslator\"]\n",
    "    vido_file_nm = record[\"vido_file_nm\"]\n",
    "    sl_speaker_id = record[\"potogrf\"][\"sl_speaker_id\"]\n",
    "    sl_speaker_age = record[\"potogrf\"][\"sl_speaker_age\"]\n",
    "    sl_speaker_sex = record[\"potogrf\"][\"sl_speaker_sex\"]\n",
    "    sl_speaker_legion = record[\"potogrf\"][\"sl_speaker_legion\"]\n",
    "    sl_speaker_hand = record[\"potogrf\"][\"sl_speaker_hand\"]\n",
    "\n",
    "    return {\n",
    "        \"id\": idx,\n",
    "        \"realm\": realm,\n",
    "        \"thema\": thema,\n",
    "        \"trnslator\": trnslator,\n",
    "        \"vido_file_nm\": vido_file_nm,\n",
    "        \"sl_speaker_id\": sl_speaker_id,\n",
    "        \"sl_speaker_age\": sl_speaker_age,\n",
    "        \"sl_speaker_sex\": sl_speaker_sex,\n",
    "        \"sl_speaker_legion\": sl_speaker_legion,\n",
    "        \"sl_speaker_hand\": sl_speaker_hand,\n",
    "    }\n",
    "\n",
    "flatten_meta(input_records[0])\n"
   ]
  },
  {
   "cell_type": "code",
   "execution_count": null,
   "metadata": {},
   "outputs": [],
   "source": [
    "ann_records = [flatten_ann(record) for record in input_records]\n",
    "\n",
    "ann_path = Path(\"./output/flattened_koksl2022_ann.json\")\n",
    "\n",
    "with open(ann_path, \"w\", encoding=\"utf-8\") as file:\n",
    "    file.write(json.dumps(ann_records, ensure_ascii=False, indent=4))\n",
    "\n",
    "\n",
    "meta_records = [flatten_meta(record) for record in input_records]\n",
    "\n",
    "meta_path = Path(\"./output/flattened_koksl2022_meta.json\")\n",
    "\n",
    "with open(meta_path, \"w\", encoding=\"utf-8\") as file:\n",
    "    file.write(json.dumps(meta_records, ensure_ascii=False, indent=4))\n",
    "    "
   ]
  }
 ],
 "metadata": {
  "kernelspec": {
   "display_name": "base",
   "language": "python",
   "name": "python3"
  },
  "language_info": {
   "codemirror_mode": {
    "name": "ipython",
    "version": 3
   },
   "file_extension": ".py",
   "mimetype": "text/x-python",
   "name": "python",
   "nbconvert_exporter": "python",
   "pygments_lexer": "ipython3",
   "version": "3.11.7"
  }
 },
 "nbformat": 4,
 "nbformat_minor": 2
}
