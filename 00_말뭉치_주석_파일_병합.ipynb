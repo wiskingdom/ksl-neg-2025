{
 "cells": [
  {
   "cell_type": "code",
   "execution_count": 21,
   "metadata": {},
   "outputs": [],
   "source": [
    "from pathlib import Path\n",
    "import json\n",
    "\n",
    "input_dir = Path(\"D:/koksl2022/JSON/\")\n",
    "input_paths = [*input_dir.glob(\"*.json\")]\n"
   ]
  },
  {
   "cell_type": "code",
   "execution_count": 22,
   "metadata": {},
   "outputs": [],
   "source": [
    "def remove_photo_info(record):\n",
    "    record.pop(\"landmarks\", None)\n",
    "    photo_info_keys = [\n",
    "        \"createdTime\",\n",
    "        \"photographer\",\n",
    "        \"location\",\n",
    "        \"devide\",\n",
    "        \"iris\",\n",
    "        \"Gain\",\n",
    "        \"WhiteBalance\",\n",
    "        \"ShutterSpeed\",\n",
    "        \"fps\",\n",
    "        \"width\",\n",
    "        \"height\",\n",
    "        \"fileSize\",\n",
    "        \"length\",\n",
    "        \"format\",\n",
    "        \"codec\",\n",
    "        ]\n",
    "\n",
    "    for key in photo_info_keys:\n",
    "        record[\"potogrf\"].pop(key, None)\n",
    "    \n",
    "    return record\n"
   ]
  },
  {
   "cell_type": "code",
   "execution_count": 23,
   "metadata": {},
   "outputs": [],
   "source": [
    "records = []\n",
    "\n",
    "for path in input_paths:\n",
    "    with open(path, \"r\", encoding=\"utf-8\") as file:\n",
    "        record = json.loads(file.read())\n",
    "    \n",
    "    records.append(remove_photo_info(record))\n",
    "\n",
    "with open(\"./output/merged_koksl2022.json\", \"w\", encoding=\"utf-8\") as file:\n",
    "    records_json = json.dumps(records, ensure_ascii=False, indent=4)\n",
    "    file.write(records_json)\n"
   ]
  }
 ],
 "metadata": {
  "kernelspec": {
   "display_name": "base",
   "language": "python",
   "name": "python3"
  },
  "language_info": {
   "codemirror_mode": {
    "name": "ipython",
    "version": 3
   },
   "file_extension": ".py",
   "mimetype": "text/x-python",
   "name": "python",
   "nbconvert_exporter": "python",
   "pygments_lexer": "ipython3",
   "version": "3.11.7"
  }
 },
 "nbformat": 4,
 "nbformat_minor": 2
}
